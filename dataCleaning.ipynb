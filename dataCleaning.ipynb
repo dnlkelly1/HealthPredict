{
 "cells": [
  {
   "cell_type": "code",
   "execution_count": 39,
   "id": "ef8cd3a2-fffb-4fae-9825-8366ad9096bf",
   "metadata": {},
   "outputs": [],
   "source": [
    "import pandas as pd\n",
    "import numpy as np\n",
    "import matplotlib.pyplot as plt\n",
    "import seaborn as sns\n",
    "%matplotlib inline\n",
    "\n",
    "#load raw data\n",
    "users = pd.read_csv('data/USERS.csv')\n",
    "qs = pd.read_csv('data/QUESTIONNAIRE.csv')\n",
    "motion = pd.read_csv('data/MOTION.csv')\n",
    "sound = pd.read_csv('data/SOUND.csv')\n",
    "location = pd.read_csv('data/LOCATION.csv')\n",
    "\n",
    "#remove user ids under 30...these were test users\n",
    "users = users[users['userID'] >= 30]\n",
    "qs = qs[qs['user'] >= 30]\n",
    "motion = motion[motion['user'] >= 30]\n",
    "sound = sound[sound['user']>= 30]\n",
    "location = location[location['user'] >= 30]\n",
    "\n",
    "#Remove Questionnaire entries that do not have a valid Result1 and Result2 \n",
    "#(Result1 and Result2 are the SF36 questionnaire summary values for Physical Component Score and Mental component scores. \n",
    "#These are summary meeasure computed from the other 36 items. Result1 and Result2 are computed at the time of completing the questionnaire on the App\n",
    "qs = qs[(qs['Result1'] > 0) & (qs['Result2'] > 0)]\n",
    "\n",
    "#Join Questionnaire with User (do a qs left join with users so that only users with valid questionnaire data are kept in the resulting join)\n",
    "users = users.rename(columns={'userID':'user'})\n",
    "valid_questionnaire = pd.merge(qs,users,on='user',how='left')"
   ]
  },
  {
   "cell_type": "markdown",
   "id": "ce989af2-eecb-4272-ac35-5ffe610640f3",
   "metadata": {},
   "source": [
    "### Motion File Processing:\n",
    "\n",
    "##### Users that have uploaded less than 40 hours of movement data (40 hours when phone was not stationary) will be removed"
   ]
  },
  {
   "cell_type": "code",
   "execution_count": 38,
   "id": "2b9a665c-d0e1-4e95-a4a2-979fef18fda5",
   "metadata": {},
   "outputs": [
    {
     "name": "stdout",
     "output_type": "stream",
     "text": [
      "Motion file has 500 users with at least 40 hours of active motion data\n"
     ]
    }
   ],
   "source": [
    "#Count number of f2 features for each user....using f2 as we want to count number of hours where there was activity. If f2 is NAN then there was no activity\n",
    "NUM_ACTIVE_DAYS_NEEDED = 5\n",
    "entryCounts = motion.groupby(by='user').count()[['f2']]\n",
    "#select users with at least 40 hours of non-stationary motion data\n",
    "validmotion_Users= entryCounts[entryCounts['f2'] > 8 * NUM_ACTIVE_DAYS_NEEDED].reset_index()\n",
    "print(f\"Motion file has {validmotion_Users.shape[0]} users with at least {8 * NUM_ACTIVE_DAYS_NEEDED} hours of active motion data\")\n",
    "#left join valid user with full motion file...in effect this will remove non valid users from the motion dataframe\n",
    "validmotion = pd.merge(validmotion_Users['user'],motion,on='user',how='left')"
   ]
  },
  {
   "cell_type": "code",
   "execution_count": null,
   "id": "d0beb0fc-fa1c-44e6-bdfe-06d4a69ed07f",
   "metadata": {},
   "outputs": [],
   "source": []
  }
 ],
 "metadata": {
  "kernelspec": {
   "display_name": "Python 3 (ipykernel)",
   "language": "python",
   "name": "python3"
  },
  "language_info": {
   "codemirror_mode": {
    "name": "ipython",
    "version": 3
   },
   "file_extension": ".py",
   "mimetype": "text/x-python",
   "name": "python",
   "nbconvert_exporter": "python",
   "pygments_lexer": "ipython3",
   "version": "3.10.4"
  }
 },
 "nbformat": 4,
 "nbformat_minor": 5
}
